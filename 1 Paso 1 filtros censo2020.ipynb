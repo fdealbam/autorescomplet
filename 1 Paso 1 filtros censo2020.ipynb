{
 "cells": [
  {
   "cell_type": "code",
   "execution_count": null,
   "id": "7b02b7a2",
   "metadata": {
    "ExecuteTime": {
     "end_time": "2021-05-02T02:07:51.847306Z",
     "start_time": "2021-05-02T02:07:51.827303Z"
    }
   },
   "outputs": [],
   "source": [
    "import pandas as pd\n",
    "import glob, os\n",
    "import sidetable\n",
    "\n"
   ]
  },
  {
   "cell_type": "markdown",
   "id": "f365aa03",
   "metadata": {},
   "source": [
    "# TRATAMIENTO"
   ]
  },
  {
   "cell_type": "code",
   "execution_count": null,
   "id": "00689706",
   "metadata": {},
   "outputs": [],
   "source": [
    "os.chdir(r'C:\\Users\\IVANOV\\AnacondaProjects\\0 0 Projects\\Project_13\\bases//')   #Ruta donde tengo mis bd\n",
    "results = pd.DataFrame([])\n",
    "\n",
    "for counter, file in enumerate(glob.glob(\"RESAGEBURB*\")):    #Abre todos los archivos que comiencen con \"RESAGEBURB\"\n",
    "    namedf = pd.read_csv(file, skiprows=0, #usecols=[1,2,3]\n",
    "                        )\n",
    "    results = results.append(namedf)\n",
    "\n",
    "results.to_csv(r'C:\\Users\\IVANOV\\AnacondaProjects\\0 0 Projects\\Project_13\\resultados\\\\combinedfile.csv')"
   ]
  },
  {
   "cell_type": "code",
   "execution_count": null,
   "id": "8cde90cf",
   "metadata": {
    "ExecuteTime": {
     "end_time": "2021-05-02T00:54:24.392036Z",
     "start_time": "2021-05-02T00:53:11.790652Z"
    }
   },
   "outputs": [],
   "source": [
    "#os.chdir(r\"C:\\Users\\IVANOV\\AnacondaProjects\\0 0 Projects\\Project_13\\resultados\")\n",
    "os.chdir(r\"C:\\Users\\win\\AnacondaProjects\\0 0 Projects\\Project_12\")\n",
    "aver= pd.read_csv(\"combinedfile.csv\")\n",
    "aver.head()"
   ]
  },
  {
   "cell_type": "code",
   "execution_count": null,
   "id": "d34887ae",
   "metadata": {
    "ExecuteTime": {
     "end_time": "2021-05-02T01:53:12.570931Z",
     "start_time": "2021-05-02T01:53:12.562922Z"
    }
   },
   "outputs": [],
   "source": [
    "print(aver.columns.tolist())"
   ]
  },
  {
   "cell_type": "code",
   "execution_count": null,
   "id": "529a4236",
   "metadata": {},
   "outputs": [],
   "source": []
  },
  {
   "cell_type": "markdown",
   "id": "f3dbe9d9",
   "metadata": {},
   "source": [
    "# FILTRO ENTIDADES "
   ]
  },
  {
   "cell_type": "code",
   "execution_count": null,
   "id": "b0f317b0",
   "metadata": {},
   "outputs": [],
   "source": [
    "# SEPARACIÖN DE subBASES (PREDISEÑADAS)\n",
    "porentidad =aver[aver.NOM_LOC == 'Total de la entidad']               ## subase (Total de la entidad)\n",
    "pormunicipio =aver[aver.NOM_LOC == 'Total del municipio']             ## subase (Total del municipio)\n",
    "porlocalidad =aver[aver.NOM_LOC == 'Total de la localidad urbana']    ## subase (Total de la localidad)\n",
    "porageb =aver[aver.NOM_LOC == 'Total AGEB urbana']                    ## subase (Total del AGEB)"
   ]
  },
  {
   "cell_type": "code",
   "execution_count": null,
   "id": "fbe57ad7",
   "metadata": {},
   "outputs": [],
   "source": [
    "porentidad_f = porentidad[[\n",
    "    'ENTIDAD',\n",
    "    'NOM_ENT',\n",
    "#    'MUN',\n",
    "#    'NOM_MUN', \n",
    "#    'LOC', \n",
    "#    'NOM_LOC',\n",
    "#    'AGEB',\n",
    "#    'MZA',\n",
    "    \n",
    "    #Población     \n",
    "    'POBTOT',\n",
    "    'POBFEM', \n",
    "    'POBMAS', \n",
    "\n",
    "     #Piramide de edad    \n",
    "    'P_0A2',              # población de 0 a 2 años\n",
    "    'P_3A5',              # población de 3 a 5 años \n",
    "    'P_6A11',             # población de 6 a 11 años \n",
    "    'P_12A14', #'P_12A14_F', 'P_12A14_M', \n",
    "    'P_15A17', #'P_15A17_F', 'P_15A17_M', #\n",
    "    #'P_18A24', #'P_18A24_F', 'P_18A24_M', \n",
    "    #'P_18YMAS'\n",
    "    'POB15_64',\n",
    "    #'P_8A14', #'P_8A14_F', 'P_8A14_M', \n",
    "    #'P_3A5_F', 'P_3A5_M', \n",
    "     #'P_0A2_F', 'P_0A2_M', 'P_3YMAS', 'P_3YMAS_F', 'P_3YMAS_M', 'P_5YMAS', 'P_5YMAS_F', 'P_5YMAS_M', 'P_12YMAS', 'P_12YMAS_F', 'P_12YMAS_M', 'P_15YMAS', 'P_15YMAS_F', 'P_15YMAS_M', \n",
    "    # 'P_18YMAS_F', 'P_18YMAS_M',\n",
    "    #'P_15A49_F', \n",
    "    'P_60YMAS',# 'P_60YMAS_F', 'P_60YMAS_M', 'REL_H_M', \n",
    "    #'POB0_14',  'POB65_MAS',\n",
    "    #'PROM_HNV', 'PNACENT', 'PNACENT_F', 'PNACENT_M',\n",
    "\n",
    "    # MIGRACION \n",
    "    'PNACOE', 'PNACOE_F',# 'PNACOE_M', 'PRES2015', 'PRES2015_F', 'PRES2015_M', \n",
    "    'PRESOE15',# 'PRESOE15_F', 'PRESOE15_M', 'P3YM_HLI', 'P3YM_HLI_F', 'P3YM_HLI_M', 'P3HLINHE', 'P3HLINHE_F', 'P3HLINHE_M', 'P3HLI_HE', 'P3HLI_HE_F', 'P3HLI_HE_M', 'P5_HLI', 'P5_HLI_NHE', 'P5_HLI_HE', 'PHOG_IND', 'POB_AFRO', 'POB_AFRO_F', 'POB_AFRO_M',\n",
    "\n",
    "    #Discapacidad\n",
    "    'PCON_DISC', #'PCDISC_MOT', 'PCDISC_VIS', 'PCDISC_LENG', 'PCDISC_AUD', 'PCDISC_MOT2', 'PCDISC_MEN', 'PCON_LIMI', 'PCLIM_CSB', 'PCLIM_VIS', 'PCLIM_HACO', 'PCLIM_OAUD', 'PCLIM_MOT2', 'PCLIM_RE_CO', 'PCLIM_PMEN', 'PSIND_LIM', 'P3A5_NOA', 'P3A5_NOA_F', 'P3A5_NOA_M', 'P6A11_NOA', 'P6A11_NOAF', 'P6A11_NOAM', 'P12A14NOA', 'P12A14NOAF', 'P12A14NOAM', 'P15A17A', 'P15A17A_F', 'P15A17A_M', 'P18A24A', 'P18A24A_F', 'P18A24A_M', 'P8A14AN', 'P8A14AN_F', 'P8A14AN_M', \n",
    "\n",
    "    #Educación\n",
    "    'P15YM_AN', #'P15YM_AN_F', 'P15YM_AN_M', 'P15YM_SE', 'P15YM_SE_F', 'P15YM_SE_M', \n",
    "    #'P15PRI_IN', 'P15PRI_INF', 'P15PRI_INM', 'P15PRI_CO', 'P15PRI_COF', 'P15PRI_COM', 'P15SEC_IN', 'P15SEC_INF', 'P15SEC_INM', 'P15SEC_CO', 'P15SEC_COF', 'P15SEC_COM', 'P18YM_PB', 'P18YM_PB_F', 'P18YM_PB_M', 'GRAPROES', 'GRAPROES_F', 'GRAPROES_M', 'PEA', 'PEA_F', 'PEA_M', \n",
    "\n",
    "    # ECONOMIA\n",
    "    'PE_INAC',# 'PE_INAC_F', 'PE_INAC_M', \n",
    "    'POCUPADA', 'POCUPADA_F', 'POCUPADA_M',\n",
    "    'PDESOCUP',\n",
    "    #'PDESOCUP_F', 'PDESOCUP_M',\n",
    "\n",
    "    # DERECHOHABIENCIA\n",
    "    'PSINDER',# 'PDER_SS', \n",
    "    'PDER_IMSS',# 'PDER_ISTE', 'PDER_ISTEE', 'PAFIL_PDOM', \n",
    "    'PDER_SEGP', #'PDER_IMSSB', \n",
    "    'PAFIL_IPRIV', #'PAFIL_OTRAI',\n",
    "    #'P12YM_SOLT', 'P12YM_CASA', 'P12YM_SEPA', \n",
    "    \n",
    "    # RELIGIION\n",
    "    'PCATOLICA', 'PRO_CRIEVA', 'POTRAS_REL', 'PSIN_RELIG',\n",
    "\n",
    "    # HOGARES CENSALES\n",
    "    'TOTHOG',\n",
    "    'HOGJEF_F',\n",
    "     #'HOGJEF_M', \n",
    "    'POBHOG', \n",
    "    'PHOGJEF_F', #'PHOGJEF_M', \n",
    "    \n",
    "    # VIVIENDA\n",
    "    'VIVTOT', \n",
    "    #'TVIVHAB',# 'TVIVPAR', 'VIVPAR_HAB', 'VIVPARH_CV', 'TVIVPARHAB', 'VIVPAR_DES', 'VIVPAR_UT', 'OCUPVIVPAR', \n",
    "    'PROM_OCUP', \n",
    "    'PRO_OCUP_C', \n",
    "    #'VPH_PISODT', 'VPH_PISOTI', \n",
    "    'VPH_1DOR', #'VPH_2YMASD', 'VPH_1CUART', 'VPH_2CUART', 'VPH_3YMASC', \n",
    "    'VPH_C_ELEC',# 'VPH_S_ELEC', \n",
    "    'VPH_AGUADV', #'VPH_AEASP', 'VPH_AGUAFV',\n",
    "    'VPH_TINACO', \n",
    "    'VPH_CISTER',#\n",
    "    'VPH_EXCSA', \n",
    "    #'VPH_LETR', \n",
    "    'VPH_DRENAJ',# 'VPH_NODREN', 'VPH_C_SERV', 'VPH_NDEAED', 'VPH_DSADMA', 'VPH_NDACMM', 'VPH_SNBIEN', \n",
    "    'VPH_REFRI', \n",
    "    'VPH_LAVAD', #'VPH_HMICRO',\n",
    "    #'VPH_AUTOM', #'VPH_MOTO', \n",
    "    'VPH_BICI', #'VPH_RADIO',\n",
    "    'VPH_TV',\n",
    "    'VPH_PC', #'VPH_TELEF', \n",
    "    'VPH_CEL', 'VPH_INTER',\n",
    "    #'VPH_STVP', #SOLO CHECK\n",
    "    'VPH_SPMVPI', #'VPH_CVJ', 'VPH_SINRTV', 'VPH_SINLTC', 'VPH_SINCINT', 'VPH_SINTIC'\n",
    "]]\n",
    "\n",
    "porentidad_f.to_csv(\"entidades2020.csv\")"
   ]
  },
  {
   "cell_type": "markdown",
   "id": "8fe0d683",
   "metadata": {},
   "source": [
    "# FILTRO MUNICIPIOS "
   ]
  },
  {
   "cell_type": "code",
   "execution_count": null,
   "id": "a856063d",
   "metadata": {},
   "outputs": [],
   "source": [
    "pormunicipio_f = pormunicipio[[\n",
    "    'ENTIDAD',\n",
    "    'NOM_ENT',\n",
    "    'MUN',\n",
    "    'NOM_MUN', \n",
    "#    'LOC', \n",
    "#    'NOM_LOC',\n",
    "#    'AGEB',\n",
    "#    'MZA',\n",
    "    \n",
    "    #Población     \n",
    "    'POBTOT',\n",
    "    'POBFEM', \n",
    "    'POBMAS', \n",
    "\n",
    "     #Piramide de edad    \n",
    "    'P_0A2',              # población de 0 a 2 años\n",
    "    'P_3A5',              # población de 3 a 5 años \n",
    "    'P_6A11',             # población de 6 a 11 años \n",
    "    'P_12A14', #'P_12A14_F', 'P_12A14_M', \n",
    "    'P_15A17', #'P_15A17_F', 'P_15A17_M', #\n",
    "    #'P_18A24', #'P_18A24_F', 'P_18A24_M', \n",
    "    #'P_18YMAS'\n",
    "    'POB15_64',\n",
    "    #'P_8A14', #'P_8A14_F', 'P_8A14_M', \n",
    "    #'P_3A5_F', 'P_3A5_M', \n",
    "     #'P_0A2_F', 'P_0A2_M', 'P_3YMAS', 'P_3YMAS_F', 'P_3YMAS_M', 'P_5YMAS', 'P_5YMAS_F', 'P_5YMAS_M', 'P_12YMAS', 'P_12YMAS_F', 'P_12YMAS_M', 'P_15YMAS', 'P_15YMAS_F', 'P_15YMAS_M', \n",
    "    # 'P_18YMAS_F', 'P_18YMAS_M',\n",
    "    #'P_15A49_F', \n",
    "    'P_60YMAS',# 'P_60YMAS_F', 'P_60YMAS_M', 'REL_H_M', \n",
    "    #'POB0_14',  'POB65_MAS',\n",
    "    #'PROM_HNV', 'PNACENT', 'PNACENT_F', 'PNACENT_M',\n",
    "\n",
    "    # MIGRACION \n",
    "    'PNACOE', 'PNACOE_F',# 'PNACOE_M', 'PRES2015', 'PRES2015_F', 'PRES2015_M', \n",
    "    'PRESOE15',# 'PRESOE15_F', 'PRESOE15_M', 'P3YM_HLI', 'P3YM_HLI_F', 'P3YM_HLI_M', 'P3HLINHE', 'P3HLINHE_F', 'P3HLINHE_M', 'P3HLI_HE', 'P3HLI_HE_F', 'P3HLI_HE_M', 'P5_HLI', 'P5_HLI_NHE', 'P5_HLI_HE', 'PHOG_IND', 'POB_AFRO', 'POB_AFRO_F', 'POB_AFRO_M',\n",
    "\n",
    "    #Discapacidad\n",
    "    'PCON_DISC', #'PCDISC_MOT', 'PCDISC_VIS', 'PCDISC_LENG', 'PCDISC_AUD', 'PCDISC_MOT2', 'PCDISC_MEN', 'PCON_LIMI', 'PCLIM_CSB', 'PCLIM_VIS', 'PCLIM_HACO', 'PCLIM_OAUD', 'PCLIM_MOT2', 'PCLIM_RE_CO', 'PCLIM_PMEN', 'PSIND_LIM', 'P3A5_NOA', 'P3A5_NOA_F', 'P3A5_NOA_M', 'P6A11_NOA', 'P6A11_NOAF', 'P6A11_NOAM', 'P12A14NOA', 'P12A14NOAF', 'P12A14NOAM', 'P15A17A', 'P15A17A_F', 'P15A17A_M', 'P18A24A', 'P18A24A_F', 'P18A24A_M', 'P8A14AN', 'P8A14AN_F', 'P8A14AN_M', \n",
    "\n",
    "    #Educación\n",
    "    'P15YM_AN', #'P15YM_AN_F', 'P15YM_AN_M', 'P15YM_SE', 'P15YM_SE_F', 'P15YM_SE_M', \n",
    "    #'P15PRI_IN', 'P15PRI_INF', 'P15PRI_INM', 'P15PRI_CO', 'P15PRI_COF', 'P15PRI_COM', 'P15SEC_IN', 'P15SEC_INF', 'P15SEC_INM', 'P15SEC_CO', 'P15SEC_COF', 'P15SEC_COM', 'P18YM_PB', 'P18YM_PB_F', 'P18YM_PB_M', 'GRAPROES', 'GRAPROES_F', 'GRAPROES_M', 'PEA', 'PEA_F', 'PEA_M', \n",
    "\n",
    "    # ECONOMIA\n",
    "    'PE_INAC',# 'PE_INAC_F', 'PE_INAC_M', \n",
    "    'POCUPADA', 'POCUPADA_F', 'POCUPADA_M',\n",
    "    'PDESOCUP',\n",
    "    #'PDESOCUP_F', 'PDESOCUP_M',\n",
    "\n",
    "    # DERECHOHABIENCIA\n",
    "    'PSINDER',# 'PDER_SS', \n",
    "    'PDER_IMSS',# 'PDER_ISTE', 'PDER_ISTEE', 'PAFIL_PDOM', \n",
    "    'PDER_SEGP', #'PDER_IMSSB', \n",
    "    'PAFIL_IPRIV', #'PAFIL_OTRAI',\n",
    "    #'P12YM_SOLT', 'P12YM_CASA', 'P12YM_SEPA', \n",
    "    \n",
    "    # RELIGIION\n",
    "    'PCATOLICA', 'PRO_CRIEVA', 'POTRAS_REL', 'PSIN_RELIG',\n",
    "\n",
    "    # HOGARES CENSALES\n",
    "    'TOTHOG',\n",
    "    'HOGJEF_F',\n",
    "     #'HOGJEF_M', \n",
    "    'POBHOG', \n",
    "    'PHOGJEF_F', #'PHOGJEF_M', \n",
    "    \n",
    "    # VIVIENDA\n",
    "    'VIVTOT', \n",
    "    #'TVIVHAB',# 'TVIVPAR', 'VIVPAR_HAB', 'VIVPARH_CV', 'TVIVPARHAB', 'VIVPAR_DES', 'VIVPAR_UT', 'OCUPVIVPAR', \n",
    "    'PROM_OCUP', \n",
    "    'PRO_OCUP_C', \n",
    "    #'VPH_PISODT', 'VPH_PISOTI', \n",
    "    'VPH_1DOR', #'VPH_2YMASD', 'VPH_1CUART', 'VPH_2CUART', 'VPH_3YMASC', \n",
    "    'VPH_C_ELEC',# 'VPH_S_ELEC', \n",
    "    'VPH_AGUADV', #'VPH_AEASP', 'VPH_AGUAFV',\n",
    "    'VPH_TINACO', \n",
    "    'VPH_CISTER',#\n",
    "    'VPH_EXCSA', \n",
    "    #'VPH_LETR', \n",
    "    'VPH_DRENAJ',# 'VPH_NODREN', 'VPH_C_SERV', 'VPH_NDEAED', 'VPH_DSADMA', 'VPH_NDACMM', 'VPH_SNBIEN', \n",
    "    'VPH_REFRI', \n",
    "    'VPH_LAVAD', #'VPH_HMICRO',\n",
    "    #'VPH_AUTOM', #'VPH_MOTO', \n",
    "    'VPH_BICI', #'VPH_RADIO',\n",
    "    'VPH_TV',\n",
    "    'VPH_PC', #'VPH_TELEF', \n",
    "    'VPH_CEL', 'VPH_INTER',\n",
    "    #'VPH_STVP', #SOLO CHECK\n",
    "    'VPH_SPMVPI', #'VPH_CVJ', 'VPH_SINRTV', 'VPH_SINLTC', 'VPH_SINCINT', 'VPH_SINTIC'\n",
    "]]\n",
    "\n",
    "pormunicipio_f.to_csv(\"municipios2020.csv\")"
   ]
  },
  {
   "cell_type": "raw",
   "id": "d30d49c0",
   "metadata": {},
   "source": [
    "faltan 3 variables que surgen de tratamiento.\n",
    "    1. pob en hogares con jfe de 30 a 59.\n",
    "    2. pob en hogares con jfe de 60 y mas.\n",
    "    3. no economicamnete activa con limitacion fis y/o mental\n",
    "    \n",
    "# ¿ Se puede hacer ?    "
   ]
  },
  {
   "cell_type": "code",
   "execution_count": null,
   "id": "de378be3",
   "metadata": {},
   "outputs": [],
   "source": []
  },
  {
   "cell_type": "code",
   "execution_count": null,
   "id": "3646ee31",
   "metadata": {
    "ExecuteTime": {
     "end_time": "2021-05-02T02:09:42.587589Z",
     "start_time": "2021-05-02T02:09:42.323332Z"
    }
   },
   "outputs": [],
   "source": [
    "#pobtot = aver.groupby(by=['NOM_ENT',])['POBTOT'].sum()\n",
    "#pobtot.sum()"
   ]
  },
  {
   "cell_type": "code",
   "execution_count": null,
   "id": "08d8d592",
   "metadata": {
    "ExecuteTime": {
     "end_time": "2021-05-02T02:09:39.870870Z",
     "start_time": "2021-05-02T02:09:39.842132Z"
    }
   },
   "outputs": [],
   "source": [
    "#pobtotal = aver.POBTOT.sum()\n",
    "#pobtotal"
   ]
  },
  {
   "cell_type": "code",
   "execution_count": null,
   "id": "264cea7c",
   "metadata": {},
   "outputs": [],
   "source": []
  },
  {
   "cell_type": "code",
   "execution_count": null,
   "id": "f803fee9",
   "metadata": {},
   "outputs": [],
   "source": []
  }
 ],
 "metadata": {
  "kernelspec": {
   "display_name": "Python 3",
   "language": "python",
   "name": "python3"
  },
  "language_info": {
   "codemirror_mode": {
    "name": "ipython",
    "version": 3
   },
   "file_extension": ".py",
   "mimetype": "text/x-python",
   "name": "python",
   "nbconvert_exporter": "python",
   "pygments_lexer": "ipython3",
   "version": "3.9.2"
  }
 },
 "nbformat": 4,
 "nbformat_minor": 5
}
